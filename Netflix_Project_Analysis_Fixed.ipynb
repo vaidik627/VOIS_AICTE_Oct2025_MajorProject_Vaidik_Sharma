{
 "cells": [
  {
   "cell_type": "markdown",
   "id": "3f486a2f",
   "metadata": {},
   "source": [
    "\n",
    "# Netflix Dataset Analysis — FIXED Template (Matches Your Columns)\n",
    "\n",
    "**Columns detected:** `Show_Id, Category, Title, Director, Cast, Country, Release_Date, Rating, Duration, Type, Description`\n",
    "\n",
    "This notebook is aligned to these exact names and will run without renaming.\n"
   ]
  },
  {
   "cell_type": "code",
   "execution_count": null,
   "id": "08405b35",
   "metadata": {},
   "outputs": [],
   "source": [
    "\n",
    "# Imports & settings\n",
    "import pandas as pd\n",
    "import numpy as np\n",
    "import matplotlib.pyplot as plt\n",
    "\n",
    "pd.set_option('display.max_colwidth', 200)\n",
    "pd.set_option('display.max_columns', None)\n",
    "\n",
    "DATA_PATH = \"/mnt/data/Netflix Dataset.csv\"\n",
    "df = pd.read_csv(DATA_PATH)\n",
    "print(\"Shape:\", df.shape)\n",
    "df.head(5)\n"
   ]
  },
  {
   "cell_type": "code",
   "execution_count": null,
   "id": "6fedccc8",
   "metadata": {},
   "outputs": [],
   "source": [
    "\n",
    "# Standardize/clean columns using the ACTUAL names:\n",
    "df_clean = df.copy()\n",
    "\n",
    "# Strip whitespace on common text cols\n",
    "for col in ['Title','Director','Cast','Country','Rating','Type','Description','Category','Release_Date']:\n",
    "    if col in df_clean.columns:\n",
    "        df_clean[col] = df_clean[col].astype(str).str.strip()\n",
    "\n",
    "# Parse Release_Date -> datetime and year_added/month_added\n",
    "df_clean['date_added'] = pd.to_datetime(df_clean['Release_Date'], errors='coerce')\n",
    "df_clean['year_added'] = df_clean['date_added'].dt.year\n",
    "df_clean['month_added'] = df_clean['date_added'].dt.month\n",
    "\n",
    "# Missing values handling\n",
    "for col in ['Director','Cast','Country']:\n",
    "    if col in df_clean.columns:\n",
    "        df_clean[col] = df_clean[col].replace({'nan': np.nan}).fillna('Unknown')\n",
    "\n",
    "# Remove duplicates\n",
    "df_clean = df_clean.drop_duplicates()\n",
    "\n",
    "print(\"Cleaned shape:\", df_clean.shape)\n",
    "df_clean.head(3)\n"
   ]
  },
  {
   "cell_type": "markdown",
   "id": "89326866",
   "metadata": {},
   "source": [
    "\n",
    "## Movies vs TV Shows (Category)\n",
    "- Uses **Category** (`Movie` vs `TV Show`)\n",
    "- Over-time trends use **year_added** because production year is not present; we use the date titles were added to Netflix.\n"
   ]
  },
  {
   "cell_type": "code",
   "execution_count": null,
   "id": "980f858d",
   "metadata": {},
   "outputs": [],
   "source": [
    "\n",
    "# Overall split\n",
    "if 'Category' in df_clean.columns:\n",
    "    split_counts = df_clean['Category'].value_counts()\n",
    "    display(split_counts)\n",
    "    split_counts.plot(kind='bar', title='Overall: Movies vs TV Shows')\n",
    "    plt.xlabel('Category')\n",
    "    plt.ylabel('Count')\n",
    "    plt.show()\n",
    "else:\n",
    "    print(\"Column 'Category' not found.\")\n"
   ]
  },
  {
   "cell_type": "code",
   "execution_count": null,
   "id": "6146e927",
   "metadata": {},
   "outputs": [],
   "source": [
    "\n",
    "# Trend over time by year_added\n",
    "if set(['Category','year_added']).issubset(df_clean.columns):\n",
    "    yearly = (df_clean.dropna(subset=['year_added'])\n",
    "                        .groupby(['year_added','Category'])\n",
    "                        .size()\n",
    "                        .unstack(fill_value=0)\n",
    "                        .sort_index())\n",
    "    display(yearly.tail(10))\n",
    "    yearly.plot(kind='line', title='Movies vs TV Shows by Year Added')\n",
    "    plt.xlabel('Year Added')\n",
    "    plt.ylabel('Count')\n",
    "    plt.show()\n",
    "else:\n",
    "    print(\"Columns missing for yearly trend.\")\n"
   ]
  },
  {
   "cell_type": "markdown",
   "id": "92c245b8",
   "metadata": {},
   "source": [
    "\n",
    "## Genres (`Type` column)\n",
    "- The `Type` column contains comma-separated genres (e.g., \"Dramas, International Movies\").\n"
   ]
  },
  {
   "cell_type": "code",
   "execution_count": null,
   "id": "d8e50d1b",
   "metadata": {},
   "outputs": [],
   "source": [
    "\n",
    "def split_explode_count(series, sep=','):\n",
    "    s = series.dropna().astype(str).str.split(sep).explode().str.strip()\n",
    "    s = s[s!='']\n",
    "    return s.value_counts()\n",
    "\n",
    "if 'Type' in df_clean.columns:\n",
    "    genre_counts = split_explode_count(df_clean['Type'])\n",
    "    display(genre_counts.head(20))\n",
    "    genre_counts.head(15).sort_values(ascending=True).plot(kind='barh', title='Top Genres (Overall)')\n",
    "    plt.xlabel('Count'); plt.ylabel('Genre'); plt.show()\n",
    "else:\n",
    "    print(\"Column 'Type' not found.\")\n"
   ]
  },
  {
   "cell_type": "code",
   "execution_count": null,
   "id": "47b0340a",
   "metadata": {},
   "outputs": [],
   "source": [
    "\n",
    "# Genre trends by year_added for top genres\n",
    "TOP_N = 8\n",
    "if set(['Type','year_added']).issubset(df_clean.columns):\n",
    "    exploded = df_clean.dropna(subset=['year_added']).copy()\n",
    "    exploded['genre'] = exploded['Type'].str.split(',')\n",
    "    exploded = exploded.explode('genre')\n",
    "    exploded['genre'] = exploded['genre'].str.strip()\n",
    "    exploded = exploded[exploded['genre']!='']\n",
    "    top_genres = exploded['genre'].value_counts().head(TOP_N).index.tolist()\n",
    "    subset = exploded[exploded['genre'].isin(top_genres)]\n",
    "    genre_year = subset.groupby(['year_added','genre']).size().unstack(fill_value=0).sort_index()\n",
    "    display(genre_year.tail(10))\n",
    "    for g in top_genres:\n",
    "        genre_year[g].plot(kind='line', title=f\"Trend: {g} by Year Added\")\n",
    "        plt.xlabel('Year Added'); plt.ylabel('Count'); plt.show()\n",
    "else:\n",
    "    print(\"Columns missing for genre trend.\")\n"
   ]
  },
  {
   "cell_type": "markdown",
   "id": "981ce96d",
   "metadata": {},
   "source": [
    "\n",
    "## Country-wise Contributions (`Country`)\n"
   ]
  },
  {
   "cell_type": "code",
   "execution_count": null,
   "id": "aeb06f15",
   "metadata": {},
   "outputs": [],
   "source": [
    "\n",
    "if 'Country' in df_clean.columns:\n",
    "    country_counts = split_explode_count(df_clean['Country'])\n",
    "    display(country_counts.head(20))\n",
    "    country_counts.head(15).sort_values(ascending=True).plot(kind='barh', title='Top Countries (Overall)')\n",
    "    plt.xlabel('Count'); plt.ylabel('Country'); plt.show()\n",
    "else:\n",
    "    print(\"Column 'Country' not found.\")\n"
   ]
  },
  {
   "cell_type": "code",
   "execution_count": null,
   "id": "021fff6c",
   "metadata": {},
   "outputs": [],
   "source": [
    "\n",
    "# Country trends by year_added\n",
    "TOP_N = 8\n",
    "if set(['Country','year_added']).issubset(df_clean.columns):\n",
    "    exploded = df_clean.dropna(subset=['year_added']).copy()\n",
    "    exploded['country_item'] = exploded['Country'].str.split(',')\n",
    "    exploded = exploded.explode('country_item')\n",
    "    exploded['country_item'] = exploded['country_item'].str.strip()\n",
    "    exploded = exploded[exploded['country_item']!='']\n",
    "    top_countries = exploded['country_item'].value_counts().head(TOP_N).index.tolist()\n",
    "    subset = exploded[exploded['country_item'].isin(top_countries)]\n",
    "    country_year = subset.groupby(['year_added','country_item']).size().unstack(fill_value=0).sort_index()\n",
    "    display(country_year.tail(10))\n",
    "    for c in top_countries:\n",
    "        country_year[c].plot(kind='line', title=f\"Trend: {c} by Year Added\")\n",
    "        plt.xlabel('Year Added'); plt.ylabel('Count'); plt.show()\n",
    "else:\n",
    "    print(\"Columns missing for country trends.\")\n"
   ]
  },
  {
   "cell_type": "markdown",
   "id": "466a9ec4",
   "metadata": {},
   "source": [
    "\n",
    "## Ratings & Duration\n",
    "- **Rating** distribution\n",
    "- **Duration** parsing (minutes vs seasons)\n"
   ]
  },
  {
   "cell_type": "code",
   "execution_count": null,
   "id": "1702935d",
   "metadata": {},
   "outputs": [],
   "source": [
    "\n",
    "# Rating distribution\n",
    "if 'Rating' in df_clean.columns:\n",
    "    rc = df_clean['Rating'].value_counts(dropna=False)\n",
    "    display(rc)\n",
    "    rc.plot(kind='bar', title='Rating Distribution')\n",
    "    plt.xlabel('Rating'); plt.ylabel('Count'); plt.show()\n",
    "else:\n",
    "    print(\"Column 'Rating' not found.\")\n"
   ]
  },
  {
   "cell_type": "code",
   "execution_count": null,
   "id": "49c22fef",
   "metadata": {},
   "outputs": [],
   "source": [
    "\n",
    "# Duration parsing\n",
    "if 'Duration' in df_clean.columns and 'Category' in df_clean.columns:\n",
    "    durations = df_clean['Duration'].astype(str).str.extract(r'(?P<num>\\d+)\\s*(?P<unit>\\w+)', expand=True)\n",
    "    durations['num'] = pd.to_numeric(durations['num'], errors='coerce')\n",
    "    df_clean['duration_num'] = durations['num']\n",
    "    df_clean['duration_unit'] = durations['unit']\n",
    "\n",
    "    movies = df_clean[(df_clean['Category']=='Movie') & (df_clean['duration_unit'].str.lower().str.startswith('min'))]\n",
    "    if not movies.empty:\n",
    "        movies['duration_num'].plot(kind='hist', bins=20, title='Movies: Duration (Minutes)')\n",
    "        plt.xlabel('Minutes'); plt.ylabel('Frequency'); plt.show()\n",
    "\n",
    "    shows = df_clean[(df_clean['Category']=='TV Show') & (df_clean['duration_unit'].str.lower().str.startswith('season'))]\n",
    "    if not shows.empty:\n",
    "        shows['duration_num'].plot(kind='hist', bins=10, title='TV Shows: Number of Seasons')\n",
    "        plt.xlabel('Seasons'); plt.ylabel('Frequency'); plt.show()\n",
    "else:\n",
    "    print(\"Columns missing for duration analysis.\")\n"
   ]
  },
  {
   "cell_type": "markdown",
   "id": "c1e645dd",
   "metadata": {},
   "source": [
    "\n",
    "## Key Findings (fill in after running)\n",
    "- **Movies vs TV Shows:** …  \n",
    "- **Top Genres:** …  \n",
    "- **Top Countries:** …  \n",
    "- **Ratings & Duration:** …  \n"
   ]
  }
 ],
 "metadata": {},
 "nbformat": 4,
 "nbformat_minor": 5
}
